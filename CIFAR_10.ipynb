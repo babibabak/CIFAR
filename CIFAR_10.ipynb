{
  "cells": [
    {
      "cell_type": "code",
      "execution_count": 6,
      "id": "YRHESQqZbHAf",
      "metadata": {
        "colab": {
          "base_uri": "https://localhost:8080/"
        },
        "id": "YRHESQqZbHAf",
        "outputId": "6a139fb0-5ffd-42ff-b274-54b0564d8489"
      },
      "outputs": [
        {
          "name": "stdout",
          "output_type": "stream",
          "text": [
            "Collecting keras-tuner\n",
            "  Downloading keras_tuner-1.4.7-py3-none-any.whl (129 kB)\n",
            "\u001b[?25l     \u001b[90m━━━━━━━━━━━━━━━━━━━━━━━━━━━━━━━━━━━━━━━━\u001b[0m \u001b[32m0.0/129.1 kB\u001b[0m \u001b[31m?\u001b[0m eta \u001b[36m-:--:--\u001b[0m\r\u001b[2K     \u001b[91m━━━━━━━━━━━━━━━━━━━━━━━━━━━━━━━━━━━━━━\u001b[0m\u001b[90m╺\u001b[0m\u001b[90m━\u001b[0m \u001b[32m122.9/129.1 kB\u001b[0m \u001b[31m4.2 MB/s\u001b[0m eta \u001b[36m0:00:01\u001b[0m\r\u001b[2K     \u001b[90m━━━━━━━━━━━━━━━━━━━━━━━━━━━━━━━━━━━━━━━━\u001b[0m \u001b[32m129.1/129.1 kB\u001b[0m \u001b[31m2.9 MB/s\u001b[0m eta \u001b[36m0:00:00\u001b[0m\n",
            "\u001b[?25hRequirement already satisfied: keras in /usr/local/lib/python3.10/dist-packages (from keras-tuner) (2.15.0)\n",
            "Requirement already satisfied: packaging in /usr/local/lib/python3.10/dist-packages (from keras-tuner) (24.0)\n",
            "Requirement already satisfied: requests in /usr/local/lib/python3.10/dist-packages (from keras-tuner) (2.31.0)\n",
            "Collecting kt-legacy (from keras-tuner)\n",
            "  Downloading kt_legacy-1.0.5-py3-none-any.whl (9.6 kB)\n",
            "Requirement already satisfied: charset-normalizer<4,>=2 in /usr/local/lib/python3.10/dist-packages (from requests->keras-tuner) (3.3.2)\n",
            "Requirement already satisfied: idna<4,>=2.5 in /usr/local/lib/python3.10/dist-packages (from requests->keras-tuner) (3.7)\n",
            "Requirement already satisfied: urllib3<3,>=1.21.1 in /usr/local/lib/python3.10/dist-packages (from requests->keras-tuner) (2.0.7)\n",
            "Requirement already satisfied: certifi>=2017.4.17 in /usr/local/lib/python3.10/dist-packages (from requests->keras-tuner) (2024.2.2)\n",
            "Installing collected packages: kt-legacy, keras-tuner\n",
            "Successfully installed keras-tuner-1.4.7 kt-legacy-1.0.5\n"
          ]
        }
      ],
      "source": [
        "!pip install keras-tuner --upgrade"
      ]
    },
    {
      "cell_type": "markdown",
      "id": "4f723d0c",
      "metadata": {},
      "source": [
        "## Importing the libraries"
      ]
    },
    {
      "cell_type": "code",
      "execution_count": 23,
      "id": "62bfa354",
      "metadata": {
        "id": "62bfa354"
      },
      "outputs": [],
      "source": [
        "import tensorflow as tf\n",
        "from tensorflow import keras\n",
        "from sklearn.model_selection import train_test_split\n",
        "from sklearn.preprocessing import StandardScaler\n",
        "from sklearn.model_selection import GridSearchCV\n",
        "import matplotlib.pyplot as plt\n",
        "import numpy as np\n",
        "from tensorflow.keras import layers, models\n",
        "from kerastuner.tuners import RandomSearch\n",
        "from kerastuner.engine.hyperparameters import HyperParameters\n",
        "from sklearn.metrics import f1_score\n",
        "from sklearn.metrics import roc_auc_score"
      ]
    },
    {
      "cell_type": "markdown",
      "id": "33c1f71d",
      "metadata": {},
      "source": [
        "## Load and Prepare Data"
      ]
    },
    {
      "cell_type": "code",
      "execution_count": 8,
      "id": "7338c247",
      "metadata": {
        "colab": {
          "base_uri": "https://localhost:8080/"
        },
        "id": "7338c247",
        "outputId": "0bbb7c6d-9087-40e1-ce94-511372f8ca83"
      },
      "outputs": [
        {
          "name": "stdout",
          "output_type": "stream",
          "text": [
            "Downloading data from https://www.cs.toronto.edu/~kriz/cifar-10-python.tar.gz\n",
            "170498071/170498071 [==============================] - 2s 0us/step\n",
            "shape of picture:\n",
            "x_train: (50000, 32, 32, 3)\n",
            "x_test: (10000, 32, 32, 3)\n",
            "y_train: (50000, 1)\n",
            "y_test: (10000, 1)\n"
          ]
        }
      ],
      "source": [
        "(x_train, y_train), (x_test, y_test) = keras.datasets.cifar10.load_data()\n",
        "\n",
        "print(\"shape of picture:\")\n",
        "print(\"x_train:\", x_train.shape)\n",
        "print(\"x_test:\", x_test.shape)\n",
        "print(\"y_train:\", y_train.shape)\n",
        "print(\"y_test:\", y_test.shape)\n",
        "x_train, x_val, y_train, y_val = train_test_split(x_train, y_train, test_size=0.15, random_state=42)"
      ]
    },
    {
      "cell_type": "markdown",
      "id": "a1208a8e",
      "metadata": {},
      "source": [
        "\n",
        "## Prepare Data "
      ]
    },
    {
      "cell_type": "code",
      "execution_count": 9,
      "id": "fea6a01c",
      "metadata": {
        "id": "fea6a01c"
      },
      "outputs": [],
      "source": [
        "x_train = x_train / 255.0\n",
        "x_val = x_val / 255.0\n",
        "x_test = x_test / 255.0"
      ]
    },
    {
      "cell_type": "code",
      "execution_count": 10,
      "id": "d789d92b",
      "metadata": {
        "id": "d789d92b"
      },
      "outputs": [],
      "source": [
        "y_train = keras.utils.to_categorical(y_train, 10)\n",
        "y_val = keras.utils.to_categorical(y_val, 10)\n",
        "y_test = keras.utils.to_categorical(y_test, 10)"
      ]
    },
    {
      "cell_type": "markdown",
      "id": "46a81c74",
      "metadata": {},
      "source": [
        "## Train your model"
      ]
    },
    {
      "cell_type": "code",
      "execution_count": 11,
      "id": "4ecb0667",
      "metadata": {
        "id": "4ecb0667"
      },
      "outputs": [],
      "source": [
        "def build_model(hp):\n",
        "    model = models.Sequential()\n",
        "    model.add(layers.Flatten(input_shape=(32, 32, 3)))\n",
        "    model.add(layers.Dense(units=hp.Int('units',\n",
        "                                         min_value=32,\n",
        "                                         max_value=512,\n",
        "                                         step=32),\n",
        "                           activation='relu'))\n",
        "    model.add(layers.Dense(10, activation='softmax'))\n",
        "    model.compile(optimizer='adam',\n",
        "                  loss='categorical_crossentropy',\n",
        "                  metrics=['accuracy'])\n",
        "    return model"
      ]
    },
    {
      "cell_type": "code",
      "execution_count": 12,
      "id": "c950fc7e",
      "metadata": {
        "id": "c950fc7e"
      },
      "outputs": [],
      "source": [
        "tuner = RandomSearch(\n",
        "    build_model,\n",
        "    objective='val_accuracy',\n",
        "    max_trials=5,\n",
        "    executions_per_trial=3,\n",
        "    directory='my_dir',\n",
        "    project_name='cifar10')"
      ]
    },
    {
      "cell_type": "code",
      "execution_count": 14,
      "id": "02ed2279",
      "metadata": {
        "colab": {
          "base_uri": "https://localhost:8080/"
        },
        "id": "02ed2279",
        "outputId": "bc79036f-5b44-4c6f-e0f7-8335fcf122ba"
      },
      "outputs": [
        {
          "name": "stdout",
          "output_type": "stream",
          "text": [
            "Trial 5 Complete [00h 06m 33s]\n",
            "val_accuracy: 0.42733333508173627\n",
            "\n",
            "Best val_accuracy So Far: 0.43271111448605853\n",
            "Total elapsed time: 00h 24m 57s\n"
          ]
        }
      ],
      "source": [
        "tuner.search(x_train, y_train, epochs=5, validation_data=(x_val, y_val))"
      ]
    },
    {
      "cell_type": "code",
      "execution_count": 15,
      "id": "f31aa3e4",
      "metadata": {
        "id": "f31aa3e4"
      },
      "outputs": [],
      "source": [
        "best_model = tuner.get_best_models(num_models=1)[0]"
      ]
    },
    {
      "cell_type": "code",
      "execution_count": 16,
      "id": "7d114a3f",
      "metadata": {
        "colab": {
          "base_uri": "https://localhost:8080/"
        },
        "id": "7d114a3f",
        "outputId": "d42ba9e7-8b08-4c6a-e45c-385a5c8d4e84"
      },
      "outputs": [
        {
          "name": "stdout",
          "output_type": "stream",
          "text": [
            "313/313 [==============================] - 2s 5ms/step - loss: 1.5586 - accuracy: 0.4449\n"
          ]
        }
      ],
      "source": [
        "test_loss, test_acc = best_model.evaluate(x_test, y_test)"
      ]
    },
    {
      "cell_type": "code",
      "execution_count": 17,
      "id": "bjLfWt_ybvut",
      "metadata": {
        "colab": {
          "base_uri": "https://localhost:8080/"
        },
        "id": "bjLfWt_ybvut",
        "outputId": "73c61d43-bfd4-4f8e-acd2-03df3a5a12f6"
      },
      "outputs": [
        {
          "name": "stdout",
          "output_type": "stream",
          "text": [
            "313/313 [==============================] - 2s 5ms/step\n"
          ]
        }
      ],
      "source": [
        "y_pred = best_model.predict(x_test)"
      ]
    },
    {
      "cell_type": "code",
      "execution_count": 21,
      "id": "v_k1N0X9bvsa",
      "metadata": {
        "id": "v_k1N0X9bvsa"
      },
      "outputs": [],
      "source": [
        "f1 = f1_score(np.argmax(y_test, axis=1), np.argmax(y_pred, axis=1), average='weighted')"
      ]
    },
    {
      "cell_type": "code",
      "execution_count": 24,
      "id": "LlIPPXAHbvpQ",
      "metadata": {
        "id": "LlIPPXAHbvpQ"
      },
      "outputs": [],
      "source": [
        "roc_auc = roc_auc_score(y_test, y_pred, average='macro', multi_class='ovo')"
      ]
    },
    {
      "cell_type": "code",
      "execution_count": 25,
      "id": "u9ByEElYbvl3",
      "metadata": {
        "colab": {
          "base_uri": "https://localhost:8080/"
        },
        "id": "u9ByEElYbvl3",
        "outputId": "8fd5cce0-e790-4886-d975-27a28bc27b02"
      },
      "outputs": [
        {
          "name": "stdout",
          "output_type": "stream",
          "text": [
            "Test Accuracy: 0.4449000060558319\n",
            "F1 Score: 0.43683983851015107\n",
            "ROC AUC Score: 0.854163061111111\n"
          ]
        }
      ],
      "source": [
        "print(\"Test Accuracy:\", test_acc)\n",
        "print(\"F1 Score:\", f1)\n",
        "print(\"ROC AUC Score:\", roc_auc)"
      ]
    },
    {
      "cell_type": "code",
      "execution_count": 26,
      "id": "R5dUFPy7bvhu",
      "metadata": {
        "colab": {
          "base_uri": "https://localhost:8080/"
        },
        "id": "R5dUFPy7bvhu",
        "outputId": "fef27e37-c239-471d-c371-6ffebfa42d29"
      },
      "outputs": [
        {
          "name": "stdout",
          "output_type": "stream",
          "text": [
            "Results summary\n",
            "Results in my_dir/cifar10\n",
            "Showing 10 best trials\n",
            "Objective(name=\"val_accuracy\", direction=\"max\")\n",
            "\n",
            "Trial 1 summary\n",
            "Hyperparameters:\n",
            "units: 448\n",
            "Score: 0.43271111448605853\n",
            "\n",
            "Trial 4 summary\n",
            "Hyperparameters:\n",
            "units: 384\n",
            "Score: 0.42733333508173627\n",
            "\n",
            "Trial 2 summary\n",
            "Hyperparameters:\n",
            "units: 224\n",
            "Score: 0.4159555534521739\n",
            "\n",
            "Trial 0 summary\n",
            "Hyperparameters:\n",
            "units: 192\n",
            "Score: 0.4065333306789398\n",
            "\n",
            "Trial 3 summary\n",
            "Hyperparameters:\n",
            "units: 32\n",
            "Score: 0.13062222301959991\n"
          ]
        }
      ],
      "source": [
        "tuner.results_summary()\n"
      ]
    },
    {
      "cell_type": "code",
      "execution_count": 27,
      "id": "b4b85e70",
      "metadata": {
        "id": "b4b85e70"
      },
      "outputs": [],
      "source": [
        "from tensorflow.keras.layers import Input, Dense, Concatenate\n",
        "from tensorflow.keras.models import Model"
      ]
    },
    {
      "cell_type": "code",
      "execution_count": 28,
      "id": "MH7mToXKdkef",
      "metadata": {
        "id": "MH7mToXKdkef"
      },
      "outputs": [],
      "source": [
        "def build_wide_and_deep_model(hp):\n",
        "    input_layer = Input(shape=(32, 32, 3))\n",
        "    flattened_input = layers.Flatten()(input_layer)\n",
        "\n",
        "\n",
        "    wide = layers.Dense(units=hp.Int('wide_units', min_value=32, max_value=512, step=32), activation='relu')(flattened_input)\n",
        "\n",
        "\n",
        "    deep = layers.Dense(units=hp.Int('deep_units', min_value=32, max_value=512, step=32), activation='relu')(flattened_input)\n",
        "    deep = layers.Dense(units=hp.Int('deep_units', min_value=32, max_value=512, step=32), activation='relu')(deep)\n",
        "\n",
        "\n",
        "    concatenated = Concatenate()([wide, deep])\n",
        "\n",
        "\n",
        "    output = layers.Dense(10, activation='softmax')(concatenated)\n",
        "\n",
        "    model = Model(inputs=input_layer, outputs=output)\n",
        "    model.compile(optimizer='adam',\n",
        "                  loss='categorical_crossentropy',\n",
        "                  metrics=['accuracy'])\n",
        "    return model"
      ]
    },
    {
      "cell_type": "code",
      "execution_count": 29,
      "id": "6Njd-zGOdkbp",
      "metadata": {
        "id": "6Njd-zGOdkbp"
      },
      "outputs": [],
      "source": [
        "tuner_wide_and_deep = RandomSearch(\n",
        "    build_wide_and_deep_model,\n",
        "    objective='val_accuracy',\n",
        "    max_trials=5,\n",
        "    executions_per_trial=3,\n",
        "    directory='my_dir',\n",
        "    project_name='cifar10_wide_and_deep')"
      ]
    },
    {
      "cell_type": "code",
      "execution_count": 30,
      "id": "lqB4ClDKdkZS",
      "metadata": {
        "colab": {
          "base_uri": "https://localhost:8080/"
        },
        "id": "lqB4ClDKdkZS",
        "outputId": "6b37ca18-9f43-4d25-df16-73a400de194c"
      },
      "outputs": [
        {
          "name": "stdout",
          "output_type": "stream",
          "text": [
            "Trial 5 Complete [00h 16m 16s]\n",
            "val_accuracy: 0.42888887723286945\n",
            "\n",
            "Best val_accuracy So Far: 0.4328888952732086\n",
            "Total elapsed time: 00h 55m 55s\n"
          ]
        }
      ],
      "source": [
        "tuner_wide_and_deep.search(x_train, y_train, epochs=5, validation_data=(x_val, y_val))"
      ]
    },
    {
      "cell_type": "code",
      "execution_count": 31,
      "id": "pK0YrNbsdkW8",
      "metadata": {
        "id": "pK0YrNbsdkW8"
      },
      "outputs": [],
      "source": [
        "best_wide_and_deep_model = tuner_wide_and_deep.get_best_models(num_models=1)[0]\n"
      ]
    },
    {
      "cell_type": "code",
      "execution_count": 32,
      "id": "-OSQ74ysdkUn",
      "metadata": {
        "colab": {
          "base_uri": "https://localhost:8080/"
        },
        "id": "-OSQ74ysdkUn",
        "outputId": "36085733-dc4b-4ba0-d389-957b77d91b5b"
      },
      "outputs": [
        {
          "name": "stdout",
          "output_type": "stream",
          "text": [
            "313/313 [==============================] - 3s 9ms/step - loss: 1.5785 - accuracy: 0.4450\n"
          ]
        }
      ],
      "source": [
        "test_loss_wide_and_deep, test_acc_wide_and_deep = best_wide_and_deep_model.evaluate(x_test, y_test)\n",
        "\n"
      ]
    },
    {
      "cell_type": "code",
      "execution_count": 33,
      "id": "iBzuoVNbdkSQ",
      "metadata": {
        "colab": {
          "base_uri": "https://localhost:8080/"
        },
        "id": "iBzuoVNbdkSQ",
        "outputId": "4d93d2fb-b0c7-4554-a0c8-77abc1a3cde9"
      },
      "outputs": [
        {
          "name": "stdout",
          "output_type": "stream",
          "text": [
            "313/313 [==============================] - 3s 9ms/step\n"
          ]
        }
      ],
      "source": [
        "y_pred_wide_and_deep = best_wide_and_deep_model.predict(x_test)"
      ]
    },
    {
      "cell_type": "code",
      "execution_count": 34,
      "id": "jVhzl4IKdkP6",
      "metadata": {
        "id": "jVhzl4IKdkP6"
      },
      "outputs": [],
      "source": [
        "f1_wide_and_deep = f1_score(np.argmax(y_test, axis=1), np.argmax(y_pred_wide_and_deep, axis=1), average='weighted')"
      ]
    },
    {
      "cell_type": "code",
      "execution_count": 35,
      "id": "ftZ0Te5ydkLO",
      "metadata": {
        "id": "ftZ0Te5ydkLO"
      },
      "outputs": [],
      "source": [
        "roc_auc_wide_and_deep = roc_auc_score(y_test, y_pred_wide_and_deep, average='macro', multi_class='ovo')"
      ]
    },
    {
      "cell_type": "code",
      "execution_count": 36,
      "id": "CuiZj3MAdkI5",
      "metadata": {
        "colab": {
          "base_uri": "https://localhost:8080/"
        },
        "id": "CuiZj3MAdkI5",
        "outputId": "44700569-5982-4b74-abe3-245dc96e385e"
      },
      "outputs": [
        {
          "name": "stdout",
          "output_type": "stream",
          "text": [
            "Wide and Deep Model:\n",
            "Test Accuracy: 0.4449999928474426\n",
            "F1 Score: 0.4331471905557104\n",
            "ROC AUC Score: 0.8547627388888888\n"
          ]
        }
      ],
      "source": [
        "print(\"Wide and Deep Model:\")\n",
        "print(\"Test Accuracy:\", test_acc_wide_and_deep)\n",
        "print(\"F1 Score:\", f1_wide_and_deep)\n",
        "print(\"ROC AUC Score:\", roc_auc_wide_and_deep)"
      ]
    },
    {
      "cell_type": "code",
      "execution_count": 37,
      "id": "BgPPNsjmdkGi",
      "metadata": {
        "colab": {
          "base_uri": "https://localhost:8080/"
        },
        "id": "BgPPNsjmdkGi",
        "outputId": "839d998d-269a-4762-82b1-c7e6f428c0ec"
      },
      "outputs": [
        {
          "name": "stdout",
          "output_type": "stream",
          "text": [
            "\n",
            "Deep Model:\n",
            "Test Accuracy: 0.4449000060558319\n",
            "F1 Score: 0.43683983851015107\n",
            "ROC AUC Score: 0.854163061111111\n"
          ]
        }
      ],
      "source": [
        "print(\"\\nDeep Model:\")\n",
        "print(\"Test Accuracy:\", test_acc)\n",
        "print(\"F1 Score:\", f1)\n",
        "print(\"ROC AUC Score:\", roc_auc)"
      ]
    },
    {
      "cell_type": "code",
      "execution_count": null,
      "id": "5mnb7-KJdkEM",
      "metadata": {
        "id": "5mnb7-KJdkEM"
      },
      "outputs": [],
      "source": []
    },
    {
      "cell_type": "code",
      "execution_count": null,
      "id": "Gbv38YmCdkB1",
      "metadata": {
        "id": "Gbv38YmCdkB1"
      },
      "outputs": [],
      "source": []
    },
    {
      "cell_type": "code",
      "execution_count": null,
      "id": "NjTwBovMdj_g",
      "metadata": {
        "id": "NjTwBovMdj_g"
      },
      "outputs": [],
      "source": []
    },
    {
      "cell_type": "code",
      "execution_count": null,
      "id": "deVbeN15dj85",
      "metadata": {
        "id": "deVbeN15dj85"
      },
      "outputs": [],
      "source": []
    },
    {
      "cell_type": "code",
      "execution_count": null,
      "id": "MRLMxjn8dj6j",
      "metadata": {
        "id": "MRLMxjn8dj6j"
      },
      "outputs": [],
      "source": []
    },
    {
      "cell_type": "code",
      "execution_count": null,
      "id": "_5AnjNkSdj0m",
      "metadata": {
        "id": "_5AnjNkSdj0m"
      },
      "outputs": [],
      "source": []
    }
  ],
  "metadata": {
    "colab": {
      "provenance": []
    },
    "kernelspec": {
      "display_name": "Python 3 (ipykernel)",
      "language": "python",
      "name": "python3"
    },
    "language_info": {
      "codemirror_mode": {
        "name": "ipython",
        "version": 3
      },
      "file_extension": ".py",
      "mimetype": "text/x-python",
      "name": "python",
      "nbconvert_exporter": "python",
      "pygments_lexer": "ipython3",
      "version": "3.11.7"
    }
  },
  "nbformat": 4,
  "nbformat_minor": 5
}
